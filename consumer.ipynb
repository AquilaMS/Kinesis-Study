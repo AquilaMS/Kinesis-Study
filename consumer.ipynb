{
 "cells": [
  {
   "cell_type": "code",
   "execution_count": 16,
   "metadata": {},
   "outputs": [
    {
     "name": "stdout",
     "output_type": "stream",
     "text": [
      "{\"name\": \"Simon Brunet\", \"city\": \"Limoges\", \"points\": 181}\n",
      "{\"name\": \"Milagros Benítez\", \"city\": \"Cartagena\", \"points\": 75}\n",
      "{\"name\": \"بردیا مرادی\", \"city\": \"تهران\", \"points\": 88}\n",
      "{\"name\": \"Ida Marie\", \"city\": \"La Baroche\", \"points\": 86}\n",
      "{\"name\": \"Caridad Trujillo\", \"city\": \"Tlahuelompa\", \"points\": 160}\n",
      "{\"name\": \"Phoenix Johnson\", \"city\": \"Auckland\", \"points\": 113}\n",
      "{\"name\": \"Dominic Mitchell\", \"city\": \"Grand Falls\", \"points\": 115}\n",
      "{\"name\": \"Nataniel Porto\", \"city\": \"Foz do Iguaçu\", \"points\": 22}\n",
      "{\"name\": \"Melania Šijan\", \"city\": \"Knjaževac\", \"points\": 40}\n",
      "{\"name\": \"Valdemar Madsen\", \"city\": \"Roskilde\", \"points\": 182}\n",
      "{\"name\": \"Anas Hofseth\", \"city\": \"Skarde\", \"points\": 20}\n",
      "{\"name\": \"Adam Thomas\", \"city\": \"Whanganui\", \"points\": 145}\n",
      "{\"name\": \"Saloni Kumar\", \"city\": \"Chittoor\", \"points\": 97}\n",
      "{\"name\": \"Patric Spahn\", \"city\": \"Völklingen\", \"points\": 135}\n",
      "{\"name\": \"Joshua Thomas\", \"city\": \"Napier\", \"points\": 131}\n"
     ]
    },
    {
     "ename": "KeyboardInterrupt",
     "evalue": "",
     "output_type": "error",
     "traceback": [
      "\u001b[1;31m---------------------------------------------------------------------------\u001b[0m",
      "\u001b[1;31mKeyboardInterrupt\u001b[0m                         Traceback (most recent call last)",
      "Cell \u001b[1;32mIn [16], line 22\u001b[0m\n\u001b[0;32m     14\u001b[0m shard \u001b[39m=\u001b[39m client\u001b[39m.\u001b[39mget_shard_iterator(\n\u001b[0;32m     15\u001b[0m     StreamName \u001b[39m=\u001b[39m stream_name,\n\u001b[0;32m     16\u001b[0m     ShardId \u001b[39m=\u001b[39m \u001b[39m'\u001b[39m\u001b[39mshardId-000000000003\u001b[39m\u001b[39m'\u001b[39m,\n\u001b[0;32m     17\u001b[0m     ShardIteratorType \u001b[39m=\u001b[39m \u001b[39m'\u001b[39m\u001b[39mLATEST\u001b[39m\u001b[39m'\u001b[39m\n\u001b[0;32m     18\u001b[0m     )[\u001b[39m'\u001b[39m\u001b[39mShardIterator\u001b[39m\u001b[39m'\u001b[39m]\n\u001b[0;32m     20\u001b[0m \u001b[39mwhile\u001b[39;00m shard \u001b[39mis\u001b[39;00m \u001b[39mnot\u001b[39;00m \u001b[39mNone\u001b[39;00m:\n\u001b[0;32m     21\u001b[0m     \u001b[39m#choose which shard will be get\u001b[39;00m\n\u001b[1;32m---> 22\u001b[0m     results \u001b[39m=\u001b[39m client\u001b[39m.\u001b[39;49mget_records(ShardIterator \u001b[39m=\u001b[39;49m shard)\n\u001b[0;32m     23\u001b[0m     records \u001b[39m=\u001b[39m results[\u001b[39m'\u001b[39m\u001b[39mRecords\u001b[39m\u001b[39m'\u001b[39m]\n\u001b[0;32m     24\u001b[0m     \u001b[39m#prevents to get the same data multiple times\u001b[39;00m\n",
      "File \u001b[1;32mc:\\Users\\aquil\\AppData\\Local\\Programs\\Python\\Python311\\Lib\\site-packages\\botocore\\client.py:530\u001b[0m, in \u001b[0;36mClientCreator._create_api_method.<locals>._api_call\u001b[1;34m(self, *args, **kwargs)\u001b[0m\n\u001b[0;32m    526\u001b[0m     \u001b[39mraise\u001b[39;00m \u001b[39mTypeError\u001b[39;00m(\n\u001b[0;32m    527\u001b[0m         \u001b[39mf\u001b[39m\u001b[39m\"\u001b[39m\u001b[39m{\u001b[39;00mpy_operation_name\u001b[39m}\u001b[39;00m\u001b[39m() only accepts keyword arguments.\u001b[39m\u001b[39m\"\u001b[39m\n\u001b[0;32m    528\u001b[0m     )\n\u001b[0;32m    529\u001b[0m \u001b[39m# The \"self\" in this scope is referring to the BaseClient.\u001b[39;00m\n\u001b[1;32m--> 530\u001b[0m \u001b[39mreturn\u001b[39;00m \u001b[39mself\u001b[39;49m\u001b[39m.\u001b[39;49m_make_api_call(operation_name, kwargs)\n",
      "File \u001b[1;32mc:\\Users\\aquil\\AppData\\Local\\Programs\\Python\\Python311\\Lib\\site-packages\\botocore\\client.py:943\u001b[0m, in \u001b[0;36mBaseClient._make_api_call\u001b[1;34m(self, operation_name, api_params)\u001b[0m\n\u001b[0;32m    941\u001b[0m \u001b[39melse\u001b[39;00m:\n\u001b[0;32m    942\u001b[0m     apply_request_checksum(request_dict)\n\u001b[1;32m--> 943\u001b[0m     http, parsed_response \u001b[39m=\u001b[39m \u001b[39mself\u001b[39;49m\u001b[39m.\u001b[39;49m_make_request(\n\u001b[0;32m    944\u001b[0m         operation_model, request_dict, request_context\n\u001b[0;32m    945\u001b[0m     )\n\u001b[0;32m    947\u001b[0m \u001b[39mself\u001b[39m\u001b[39m.\u001b[39mmeta\u001b[39m.\u001b[39mevents\u001b[39m.\u001b[39memit(\n\u001b[0;32m    948\u001b[0m     \u001b[39m'\u001b[39m\u001b[39mafter-call.\u001b[39m\u001b[39m{service_id}\u001b[39;00m\u001b[39m.\u001b[39m\u001b[39m{operation_name}\u001b[39;00m\u001b[39m'\u001b[39m\u001b[39m.\u001b[39mformat(\n\u001b[0;32m    949\u001b[0m         service_id\u001b[39m=\u001b[39mservice_id, operation_name\u001b[39m=\u001b[39moperation_name\n\u001b[1;32m   (...)\u001b[0m\n\u001b[0;32m    954\u001b[0m     context\u001b[39m=\u001b[39mrequest_context,\n\u001b[0;32m    955\u001b[0m )\n\u001b[0;32m    957\u001b[0m \u001b[39mif\u001b[39;00m http\u001b[39m.\u001b[39mstatus_code \u001b[39m>\u001b[39m\u001b[39m=\u001b[39m \u001b[39m300\u001b[39m:\n",
      "File \u001b[1;32mc:\\Users\\aquil\\AppData\\Local\\Programs\\Python\\Python311\\Lib\\site-packages\\botocore\\client.py:966\u001b[0m, in \u001b[0;36mBaseClient._make_request\u001b[1;34m(self, operation_model, request_dict, request_context)\u001b[0m\n\u001b[0;32m    964\u001b[0m \u001b[39mdef\u001b[39;00m \u001b[39m_make_request\u001b[39m(\u001b[39mself\u001b[39m, operation_model, request_dict, request_context):\n\u001b[0;32m    965\u001b[0m     \u001b[39mtry\u001b[39;00m:\n\u001b[1;32m--> 966\u001b[0m         \u001b[39mreturn\u001b[39;00m \u001b[39mself\u001b[39;49m\u001b[39m.\u001b[39;49m_endpoint\u001b[39m.\u001b[39;49mmake_request(operation_model, request_dict)\n\u001b[0;32m    967\u001b[0m     \u001b[39mexcept\u001b[39;00m \u001b[39mException\u001b[39;00m \u001b[39mas\u001b[39;00m e:\n\u001b[0;32m    968\u001b[0m         \u001b[39mself\u001b[39m\u001b[39m.\u001b[39mmeta\u001b[39m.\u001b[39mevents\u001b[39m.\u001b[39memit(\n\u001b[0;32m    969\u001b[0m             \u001b[39m'\u001b[39m\u001b[39mafter-call-error.\u001b[39m\u001b[39m{service_id}\u001b[39;00m\u001b[39m.\u001b[39m\u001b[39m{operation_name}\u001b[39;00m\u001b[39m'\u001b[39m\u001b[39m.\u001b[39mformat(\n\u001b[0;32m    970\u001b[0m                 service_id\u001b[39m=\u001b[39m\u001b[39mself\u001b[39m\u001b[39m.\u001b[39m_service_model\u001b[39m.\u001b[39mservice_id\u001b[39m.\u001b[39mhyphenize(),\n\u001b[1;32m   (...)\u001b[0m\n\u001b[0;32m    974\u001b[0m             context\u001b[39m=\u001b[39mrequest_context,\n\u001b[0;32m    975\u001b[0m         )\n",
      "File \u001b[1;32mc:\\Users\\aquil\\AppData\\Local\\Programs\\Python\\Python311\\Lib\\site-packages\\botocore\\endpoint.py:119\u001b[0m, in \u001b[0;36mEndpoint.make_request\u001b[1;34m(self, operation_model, request_dict)\u001b[0m\n\u001b[0;32m    113\u001b[0m \u001b[39mdef\u001b[39;00m \u001b[39mmake_request\u001b[39m(\u001b[39mself\u001b[39m, operation_model, request_dict):\n\u001b[0;32m    114\u001b[0m     logger\u001b[39m.\u001b[39mdebug(\n\u001b[0;32m    115\u001b[0m         \u001b[39m\"\u001b[39m\u001b[39mMaking request for \u001b[39m\u001b[39m%s\u001b[39;00m\u001b[39m with params: \u001b[39m\u001b[39m%s\u001b[39;00m\u001b[39m\"\u001b[39m,\n\u001b[0;32m    116\u001b[0m         operation_model,\n\u001b[0;32m    117\u001b[0m         request_dict,\n\u001b[0;32m    118\u001b[0m     )\n\u001b[1;32m--> 119\u001b[0m     \u001b[39mreturn\u001b[39;00m \u001b[39mself\u001b[39;49m\u001b[39m.\u001b[39;49m_send_request(request_dict, operation_model)\n",
      "File \u001b[1;32mc:\\Users\\aquil\\AppData\\Local\\Programs\\Python\\Python311\\Lib\\site-packages\\botocore\\endpoint.py:202\u001b[0m, in \u001b[0;36mEndpoint._send_request\u001b[1;34m(self, request_dict, operation_model)\u001b[0m\n\u001b[0;32m    198\u001b[0m request \u001b[39m=\u001b[39m \u001b[39mself\u001b[39m\u001b[39m.\u001b[39mcreate_request(request_dict, operation_model)\n\u001b[0;32m    199\u001b[0m success_response, exception \u001b[39m=\u001b[39m \u001b[39mself\u001b[39m\u001b[39m.\u001b[39m_get_response(\n\u001b[0;32m    200\u001b[0m     request, operation_model, context\n\u001b[0;32m    201\u001b[0m )\n\u001b[1;32m--> 202\u001b[0m \u001b[39mwhile\u001b[39;00m \u001b[39mself\u001b[39;49m\u001b[39m.\u001b[39;49m_needs_retry(\n\u001b[0;32m    203\u001b[0m     attempts,\n\u001b[0;32m    204\u001b[0m     operation_model,\n\u001b[0;32m    205\u001b[0m     request_dict,\n\u001b[0;32m    206\u001b[0m     success_response,\n\u001b[0;32m    207\u001b[0m     exception,\n\u001b[0;32m    208\u001b[0m ):\n\u001b[0;32m    209\u001b[0m     attempts \u001b[39m+\u001b[39m\u001b[39m=\u001b[39m \u001b[39m1\u001b[39m\n\u001b[0;32m    210\u001b[0m     \u001b[39mself\u001b[39m\u001b[39m.\u001b[39m_update_retries_context(context, attempts, success_response)\n",
      "File \u001b[1;32mc:\\Users\\aquil\\AppData\\Local\\Programs\\Python\\Python311\\Lib\\site-packages\\botocore\\endpoint.py:373\u001b[0m, in \u001b[0;36mEndpoint._needs_retry\u001b[1;34m(self, attempts, operation_model, request_dict, response, caught_exception)\u001b[0m\n\u001b[0;32m    366\u001b[0m \u001b[39melse\u001b[39;00m:\n\u001b[0;32m    367\u001b[0m     \u001b[39m# Request needs to be retried, and we need to sleep\u001b[39;00m\n\u001b[0;32m    368\u001b[0m     \u001b[39m# for the specified number of times.\u001b[39;00m\n\u001b[0;32m    369\u001b[0m     logger\u001b[39m.\u001b[39mdebug(\n\u001b[0;32m    370\u001b[0m         \u001b[39m\"\u001b[39m\u001b[39mResponse received to retry, sleeping for \u001b[39m\u001b[39m%s\u001b[39;00m\u001b[39m seconds\u001b[39m\u001b[39m\"\u001b[39m,\n\u001b[0;32m    371\u001b[0m         handler_response,\n\u001b[0;32m    372\u001b[0m     )\n\u001b[1;32m--> 373\u001b[0m     time\u001b[39m.\u001b[39msleep(handler_response)\n\u001b[0;32m    374\u001b[0m     \u001b[39mreturn\u001b[39;00m \u001b[39mTrue\u001b[39;00m\n",
      "\u001b[1;31mKeyboardInterrupt\u001b[0m: "
     ]
    }
   ],
   "source": [
    "import boto3\n",
    "import os\n",
    "\n",
    "access_key = os.environ.get('AWS_ACCESS_KEY')\n",
    "secret_key = os.environ.get('AWS_ACCESS_SECRET_KEY')\n",
    "stream_name ='myTestStream'\n",
    "\n",
    "client = boto3.client(\n",
    "    'kinesis', \n",
    "    aws_access_key_id = access_key, \n",
    "    aws_secret_access_key = secret_key, \n",
    "    region_name = 'us-east-1')\n",
    "\n",
    "shard = client.get_shard_iterator(\n",
    "    StreamName = stream_name,\n",
    "    ShardId = 'shardId-000000000002',\n",
    "    ShardIteratorType = 'LATEST'\n",
    "    )['ShardIterator']\n",
    "    \n",
    "while shard is not None:\n",
    "    #choose which shard will be get\n",
    "    results = client.get_records(ShardIterator = shard)\n",
    "    records = results['Records']\n",
    "    #prevents to get the same data multiple times\n",
    "    shard = results['NextShardIterator']\n",
    "    \n",
    "    for record in records:\n",
    "        #prevents bad characters in some languages like slavs and arabics names due unicode \n",
    "        print(str(record['Data'].decode('unicode-escape')))\n",
    "        \n",
    "       "
   ]
  }
 ],
 "metadata": {
  "kernelspec": {
   "display_name": "Python 3.11.0 64-bit",
   "language": "python",
   "name": "python3"
  },
  "language_info": {
   "codemirror_mode": {
    "name": "ipython",
    "version": 3
   },
   "file_extension": ".py",
   "mimetype": "text/x-python",
   "name": "python",
   "nbconvert_exporter": "python",
   "pygments_lexer": "ipython3",
   "version": "3.11.0"
  },
  "orig_nbformat": 4,
  "vscode": {
   "interpreter": {
    "hash": "afefc1c1cec87fc13f2a9aed41404bd04a9b15c75e1e449c90d8920987b76e14"
   }
  }
 },
 "nbformat": 4,
 "nbformat_minor": 2
}
