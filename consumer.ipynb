{
 "cells": [
  {
   "cell_type": "code",
   "execution_count": 16,
   "metadata": {},
   "outputs": [
    {
     "name": "stdout",
     "output_type": "stream",
     "text": [
      "{\"name\": \"Simon Brunet\", \"city\": \"Limoges\", \"points\": 181}\n",
      "{\"name\": \"Milagros Benítez\", \"city\": \"Cartagena\", \"points\": 75}\n",
      "{\"name\": \"بردیا مرادی\", \"city\": \"تهران\", \"points\": 88}\n",
      "{\"name\": \"Ida Marie\", \"city\": \"La Baroche\", \"points\": 86}\n",
      "{\"name\": \"Caridad Trujillo\", \"city\": \"Tlahuelompa\", \"points\": 160}\n",
      "{\"name\": \"Phoenix Johnson\", \"city\": \"Auckland\", \"points\": 113}\n",
      "{\"name\": \"Dominic Mitchell\", \"city\": \"Grand Falls\", \"points\": 115}\n",
      "{\"name\": \"Nataniel Porto\", \"city\": \"Foz do Iguaçu\", \"points\": 22}\n",
      "{\"name\": \"Melania Šijan\", \"city\": \"Knjaževac\", \"points\": 40}\n",
      "{\"name\": \"Valdemar Madsen\", \"city\": \"Roskilde\", \"points\": 182}\n",
      "{\"name\": \"Anas Hofseth\", \"city\": \"Skarde\", \"points\": 20}\n",
      "{\"name\": \"Adam Thomas\", \"city\": \"Whanganui\", \"points\": 145}\n",
      "{\"name\": \"Saloni Kumar\", \"city\": \"Chittoor\", \"points\": 97}\n",
      "{\"name\": \"Patric Spahn\", \"city\": \"Völklingen\", \"points\": 135}\n",
      "{\"name\": \"Joshua Thomas\", \"city\": \"Napier\", \"points\": 131}\n"
     ]
    }
   ],
   "source": [
    "import boto3\n",
    "import os\n",
    "\n",
    "access_key = os.environ.get('AWS_ACCESS_KEY')\n",
    "secret_key = os.environ.get('AWS_ACCESS_SECRET_KEY')\n",
    "stream_name ='myTestStream'\n",
    "\n",
    "client = boto3.client(\n",
    "    'kinesis', \n",
    "    aws_access_key_id = access_key, \n",
    "    aws_secret_access_key = secret_key, \n",
    "    region_name = 'us-east-1')\n",
    "\n",
    "shard = client.get_shard_iterator(\n",
    "    StreamName = stream_name,\n",
    "    ShardId = 'shardId-000000000002',\n",
    "    ShardIteratorType = 'LATEST'\n",
    "    )['ShardIterator']\n",
    "    \n",
    "while shard is not None:\n",
    "    #choose which shard will be get\n",
    "    results = client.get_records(ShardIterator = shard)\n",
    "    records = results['Records']\n",
    "    #prevents to get the same data multiple times\n",
    "    shard = results['NextShardIterator']\n",
    "    \n",
    "    for record in records:\n",
    "        #prevents bad characters in some languages like slavs and arabics names due unicode \n",
    "        print(str(record['Data'].decode('unicode-escape')))\n",
    "        \n",
    "       "
   ]
  }
 ],
 "metadata": {
  "kernelspec": {
   "display_name": "Python 3.11.0 64-bit",
   "language": "python",
   "name": "python3"
  },
  "language_info": {
   "codemirror_mode": {
    "name": "ipython",
    "version": 3
   },
   "file_extension": ".py",
   "mimetype": "text/x-python",
   "name": "python",
   "nbconvert_exporter": "python",
   "pygments_lexer": "ipython3",
   "version": "3.11.0"
  },
  "orig_nbformat": 4,
  "vscode": {
   "interpreter": {
    "hash": "afefc1c1cec87fc13f2a9aed41404bd04a9b15c75e1e449c90d8920987b76e14"
   }
  }
 },
 "nbformat": 4,
 "nbformat_minor": 2
}
